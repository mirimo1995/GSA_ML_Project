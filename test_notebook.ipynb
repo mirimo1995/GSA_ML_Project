{
 "cells": [
  {
   "cell_type": "code",
   "execution_count": null,
   "metadata": {
    "colab": {},
    "colab_type": "code",
    "id": "RGMQ3OPc4LRd"
   },
   "outputs": [],
   "source": [
    "from dqn_agent import *\n",
    "from ddqn_agent import *\n",
    "from n_step_ddqn_agent import *\n",
    "from Final_agent import *"
   ]
  },
  {
   "cell_type": "code",
   "execution_count": null,
   "metadata": {
    "colab": {
     "base_uri": "https://localhost:8080/",
     "height": 415
    },
    "colab_type": "code",
    "id": "4dyXA9iF4MxH",
    "outputId": "d6823374-93ff-4e04-fb54-8e42ebf5bc85"
   },
   "outputs": [],
   "source": [
    "#test dqn agent\n",
    "device=\"cuda\"\n",
    "policy = DQN(n_actions=4).to(device)\n",
    "target = DQN(n_actions=4).to(device)\n",
    "target.load_state_dict(policy.state_dict())\n",
    "env = gym.make(\"PongNoFrameskip-v4\")\n",
    "env = make_env(env,episodic_life=False)\n",
    "agent=DQN_agent(env,policy,target,n_action=4)\n",
    "agent.load_model(\"Results/agents/dqn_pong_model\")\n",
    "test_reward=agent.test(100)\n",
    "print(np.mean(test_reward))"
   ]
  },
  {
   "cell_type": "code",
   "execution_count": null,
   "metadata": {
    "colab": {},
    "colab_type": "code",
    "id": "sdm12mbI5qFy"
   },
   "outputs": [],
   "source": [
    "#test Double_dqn agent\n",
    "device=\"cuda\"\n",
    "policy = DQN(n_actions=4).to(device)\n",
    "target = DQN(n_actions=4).to(device)\n",
    "target.load_state_dict(policy.state_dict())\n",
    "env = gym.make(\"PongNoFrameskip-v4\")\n",
    "env = make_env(env,episodic_life=False)\n",
    "agent=DDQN_agent(env,policy,target,n_action=4)\n",
    "agent.load_model(\"Results/agents/ddqn_pong_model\")\n",
    "test_reward=agent.test(100)\n",
    "print(np.mean(test))"
   ]
  },
  {
   "cell_type": "code",
   "execution_count": null,
   "metadata": {
    "colab": {},
    "colab_type": "code",
    "id": "6pvC6sW86Blc"
   },
   "outputs": [],
   "source": [
    "#test n_step_dqn agent\n",
    "device=\"cuda\"\n",
    "policy = DQN(n_actions=4).to(device)\n",
    "target = DQN(n_actions=4).to(device)\n",
    "target.load_state_dict(policy.state_dict())\n",
    "env = gym.make(\"PongNoFrameskip-v4\")\n",
    "env = make_env(env,episodic_life=True)\n",
    "agent=DQN_agent_N_Step(env,policy,target,n_action=4)\n",
    "agent.load_model(\"Results/agents/ddqn_pong_model_n\")\n",
    "test_reward=agent.test(100)\n",
    "print(np.mean(test))"
   ]
  },
  {
   "cell_type": "code",
   "execution_count": null,
   "metadata": {},
   "outputs": [],
   "source": [
    "#test final agent\n",
    "device=\"cuda\"\n",
    "policy = DQN(n_actions=4).to(device)\n",
    "target = DQN(n_actions=4).to(device)\n",
    "target.load_state_dict(policy.state_dict())\n",
    "env = gym.make(\"PongNoFrameskip-v4\")\n",
    "env = make_env(env,episodic_life=True)\n",
    "agent=Final_agent(env,policy,target,n_action=4)\n",
    "agent.load_model(\"Results/agents/final_model_pong\")\n",
    "test_reward=agent.test(100)\n",
    "print(np.mean(test))"
   ]
  }
 ],
 "metadata": {
  "colab": {
   "name": "Untitled0.ipynb",
   "provenance": [],
   "toc_visible": true
  },
  "kernelspec": {
   "display_name": "Python 3",
   "language": "python",
   "name": "python3"
  },
  "language_info": {
   "codemirror_mode": {
    "name": "ipython",
    "version": 3
   },
   "file_extension": ".py",
   "mimetype": "text/x-python",
   "name": "python",
   "nbconvert_exporter": "python",
   "pygments_lexer": "ipython3",
   "version": "3.7.4"
  }
 },
 "nbformat": 4,
 "nbformat_minor": 1
}
